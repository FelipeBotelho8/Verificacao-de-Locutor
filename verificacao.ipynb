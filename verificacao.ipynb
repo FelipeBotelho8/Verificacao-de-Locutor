{
 "cells": [
  {
   "cell_type": "code",
   "execution_count": 1,
   "metadata": {},
   "outputs": [],
   "source": [
    "import numpy as np\n",
    "import librosa\n",
    "import sounddevice as sd\n",
    "import wavio\n",
    "import soundfile as sf\n",
    "from pickle import load\n",
    "from utils import *\n",
    "from sklearn.preprocessing import StandardScaler\n",
    "\n",
    "from tensorflow import keras"
   ]
  },
  {
   "cell_type": "code",
   "execution_count": 2,
   "metadata": {},
   "outputs": [],
   "source": [
    "# Importar modelo e scaler\n",
    "scaler = load(open('scaler.pkl', 'rb'))\n",
    "model = keras.models.load_model('modelo_mfcc')"
   ]
  },
  {
   "cell_type": "code",
   "execution_count": 8,
   "metadata": {},
   "outputs": [
    {
     "name": "stdout",
     "output_type": "stream",
     "text": [
      "Gravando...\n",
      "Fim da gravação\n"
     ]
    }
   ],
   "source": [
    "# Gravar audio\n",
    "fs = 44100\n",
    "seconds = 3\n",
    "print('Gravando...')\n",
    "record = sd.rec(int(seconds*fs), samplerate=fs, channels=1)\n",
    "sd.wait()\n",
    "#wavio.write('teste_1.wav', record, fs, sampwidth=2)\n",
    "sf.write('teste.wav', record, fs)\n",
    "print('Fim da gravação')"
   ]
  },
  {
   "cell_type": "code",
   "execution_count": 13,
   "metadata": {},
   "outputs": [],
   "source": [
    "# Obter os coeficientes do audio gravado\n",
    "coefs = get_mfcc_coefs('teste.wav')\n",
    "coefs = coefs.reshape(1, coefs.shape[0])\n",
    "coefs = scaler.transform(coefs)"
   ]
  },
  {
   "cell_type": "code",
   "execution_count": 14,
   "metadata": {},
   "outputs": [
    {
     "data": {
      "text/plain": [
       "array([[1.2399627e-28, 1.0000000e+00]], dtype=float32)"
      ]
     },
     "execution_count": 14,
     "metadata": {},
     "output_type": "execute_result"
    }
   ],
   "source": [
    "# Fazer a predição\n",
    "pred = model.predict(coefs)\n",
    "#pred\n",
    "np.argmax(pred, -1)[0]"
   ]
  }
 ],
 "metadata": {
  "interpreter": {
   "hash": "b3ba2566441a7c06988d0923437866b63cedc61552a5af99d1f4fb67d367b25f"
  },
  "kernelspec": {
   "display_name": "Python 3.7.10 64-bit ('base': conda)",
   "name": "python3"
  },
  "language_info": {
   "codemirror_mode": {
    "name": "ipython",
    "version": 3
   },
   "file_extension": ".py",
   "mimetype": "text/x-python",
   "name": "python",
   "nbconvert_exporter": "python",
   "pygments_lexer": "ipython3",
   "version": "3.7.10"
  },
  "orig_nbformat": 4
 },
 "nbformat": 4,
 "nbformat_minor": 2
}
