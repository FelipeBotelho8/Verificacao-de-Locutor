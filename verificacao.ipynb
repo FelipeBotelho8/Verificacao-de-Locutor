{
 "cells": [
  {
   "cell_type": "code",
   "execution_count": 1,
   "source": [
    "import numpy as np\r\n",
    "import librosa\r\n",
    "import sounddevice as sd\r\n",
    "import wavio\r\n",
    "import soundfile as sf\r\n",
    "from pickle import load\r\n",
    "from utils import *\r\n",
    "from sklearn.preprocessing import StandardScaler\r\n",
    "\r\n",
    "from tensorflow import keras"
   ],
   "outputs": [],
   "metadata": {}
  },
  {
   "cell_type": "code",
   "execution_count": 2,
   "source": [
    "# Importar modelo e scaler\r\n",
    "scaler = load(open('scaler.pkl', 'rb'))\r\n",
    "model = keras.models.load_model('modelo_mfcc')"
   ],
   "outputs": [],
   "metadata": {}
  },
  {
   "cell_type": "code",
   "execution_count": 8,
   "source": [
    "# Gravar audio\r\n",
    "fs = 44100\r\n",
    "seconds = 3\r\n",
    "print('Gravando...')\r\n",
    "record = sd.rec(int(seconds*fs), samplerate=fs, channels=1)\r\n",
    "sd.wait()\r\n",
    "#wavio.write('teste_1.wav', record, fs, sampwidth=2)\r\n",
    "sf.write('teste.wav', record, fs)\r\n",
    "print('Fim da gravação')"
   ],
   "outputs": [
    {
     "output_type": "stream",
     "name": "stdout",
     "text": [
      "Gravando...\n",
      "Fim da gravação\n"
     ]
    }
   ],
   "metadata": {}
  },
  {
   "cell_type": "code",
   "execution_count": 13,
   "source": [
    "# Obter os coeficientes do audio gravado\r\n",
    "coefs = get_mfcc_coefs('teste.wav')\r\n",
    "coefs = coefs.reshape(1, coefs.shape[0])\r\n",
    "coefs = scaler.transform(coefs)"
   ],
   "outputs": [],
   "metadata": {}
  },
  {
   "cell_type": "code",
   "execution_count": 14,
   "source": [
    "# Fazer a predição\r\n",
    "pred = model.predict(coefs)\r\n",
    "pred\r\n",
    "#np.argmax(pred, -1)[0]"
   ],
   "outputs": [
    {
     "output_type": "execute_result",
     "data": {
      "text/plain": [
       "array([[1.2399627e-28, 1.0000000e+00]], dtype=float32)"
      ]
     },
     "metadata": {},
     "execution_count": 14
    }
   ],
   "metadata": {}
  }
 ],
 "metadata": {
  "orig_nbformat": 4,
  "language_info": {
   "name": "python",
   "version": "3.7.10",
   "mimetype": "text/x-python",
   "codemirror_mode": {
    "name": "ipython",
    "version": 3
   },
   "pygments_lexer": "ipython3",
   "nbconvert_exporter": "python",
   "file_extension": ".py"
  },
  "kernelspec": {
   "name": "python3",
   "display_name": "Python 3.7.10 64-bit ('base': conda)"
  },
  "interpreter": {
   "hash": "b3ba2566441a7c06988d0923437866b63cedc61552a5af99d1f4fb67d367b25f"
  }
 },
 "nbformat": 4,
 "nbformat_minor": 2
}