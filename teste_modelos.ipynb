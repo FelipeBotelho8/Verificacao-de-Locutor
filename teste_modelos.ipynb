{
 "cells": [
  {
   "cell_type": "code",
   "execution_count": 1,
   "metadata": {},
   "outputs": [],
   "source": [
    "from utils import *\n",
    "import numpy as np\n",
    "import os\n",
    "import seaborn as sns\n",
    "from sklearn.metrics import confusion_matrix, classification_report\n",
    "from sklearn.preprocessing import StandardScaler\n",
    "import matplotlib.pyplot as plt\n",
    "from sklearn.metrics import accuracy_score, recall_score, f1_score, precision_score, confusion_matrix, classification_report\n",
    "\n",
    "from tensorflow import keras\n",
    "from tensorflow.keras import layers\n",
    "from tensorflow.keras import callbacks\n",
    "from tensorflow.keras.utils import to_categorical\n",
    "\n",
    "%load_ext autoreload\n",
    "%autoreload 2\n",
    "%matplotlib inline"
   ]
  },
  {
   "cell_type": "code",
   "execution_count": 2,
   "metadata": {},
   "outputs": [
    {
     "name": "stdout",
     "output_type": "stream",
     "text": [
      "(90, 3600)\n",
      "(90,)\n",
      "(90, 2)\n",
      "(45, 3600)\n",
      "(45,)\n",
      "(45, 2)\n",
      "(24, 3600)\n",
      "(24,)\n",
      "(24, 2)\n"
     ]
    }
   ],
   "source": [
    "# Carregar treino\n",
    "X = []\n",
    "y = []\n",
    "\n",
    "dirs = ['audios\\\\amostras_treino', 'audios\\\\minhas_treino']\n",
    "label = 0\n",
    "for dir in dirs:\n",
    "    files = os.listdir(dir)\n",
    "    for name_file in files:\n",
    "        path = os.path.join(dir, name_file)\n",
    "        coefs = get_mfcc_coefs(path)\n",
    "        X.append(coefs)\n",
    "        y.append(label)\n",
    "    label=1\n",
    "\n",
    "X = np.array(X)\n",
    "y = np.array(y)\n",
    "y_c = to_categorical(y, 2)\n",
    "\n",
    "print(X.shape)\n",
    "print(y.shape)\n",
    "print(y_c.shape)\n",
    "\n",
    "# Scaler\n",
    "scaler = StandardScaler()\n",
    "scaler = scaler.fit(X)\n",
    "X = scaler.transform(X)\n",
    "\n",
    "# Carregar teste\n",
    "X_test = []\n",
    "y_test = []\n",
    "\n",
    "dirs = ['audios\\\\amostras_teste', 'audios\\\\minha_teste']\n",
    "label = 0\n",
    "for dir in dirs:\n",
    "    files = os.listdir(dir)\n",
    "    for name_file in files:\n",
    "        path = os.path.join(dir, name_file)\n",
    "        coefs = get_mfcc_coefs(path)\n",
    "        X_test.append(coefs)\n",
    "        y_test.append(label)\n",
    "    label=1\n",
    "\n",
    "X_test = np.array(X_test)\n",
    "y_test = np.array(y_test)\n",
    "y_c_test = to_categorical(y_test, 2)\n",
    "\n",
    "X_test = scaler.transform(X_test)\n",
    "\n",
    "print(X_test.shape)\n",
    "print(y_test.shape)\n",
    "print(y_c_test.shape)\n",
    "\n",
    "# Carregar validacao\n",
    "X_validacao = []\n",
    "y_validacao = []\n",
    "\n",
    "dirs = ['audios\\\\amostras_validacao', 'audios\\\\minhas_validacao']\n",
    "label = 0\n",
    "for dir in dirs:\n",
    "    files = os.listdir(dir)\n",
    "    for name_file in files:\n",
    "        path = os.path.join(dir, name_file)\n",
    "        coefs = get_mfcc_coefs(path)\n",
    "        X_validacao.append(coefs)\n",
    "        y_validacao.append(label)\n",
    "    label=1\n",
    "\n",
    "X_validacao = np.array(X_validacao)\n",
    "y_validacao = np.array(y_validacao)\n",
    "y_c_validacao = to_categorical(y_validacao, 2)\n",
    "\n",
    "X_validacao = scaler.transform(X_validacao)\n",
    "\n",
    "print(X_validacao.shape)\n",
    "print(y_validacao.shape)\n",
    "print(y_c_validacao.shape)"
   ]
  },
  {
   "cell_type": "code",
   "execution_count": 3,
   "metadata": {},
   "outputs": [],
   "source": [
    "# Parada antecipada\n",
    "early_stopping = callbacks.EarlyStopping(\n",
    "    min_delta=0,\n",
    "    patience=8,\n",
    "    monitor='val_loss',\n",
    "    restore_best_weights=True\n",
    ")\n",
    "\n",
    "#Otimizador\n",
    "opt = keras.optimizers.Adam(learning_rate=0.001)"
   ]
  },
  {
   "cell_type": "code",
   "execution_count": null,
   "metadata": {},
   "outputs": [],
   "source": [
    "accuracies = []\n",
    "precisions_0 = []\n",
    "precisions_1 = []\n",
    "recalls_0 = []\n",
    "recalls_1 = []\n",
    "f1s_0 = []\n",
    "f1s_1 = []\n",
    "cmats = []\n",
    "models = []\n",
    "\n",
    "for i in range(50):\n",
    "    # Treino principal\n",
    "    model_final = keras.Sequential([\n",
    "            layers.InputLayer(input_shape=[X_test.shape[1]]),\n",
    "            layers.BatchNormalization(),\n",
    "            layers.Dense(128, activation='tanh'),\n",
    "            layers.BatchNormalization(),\n",
    "            layers.Dropout(0.1),\n",
    "            layers.Dense(2, activation='softmax')\n",
    "        ])\n",
    "\n",
    "\n",
    "    # Propriedades do modelo\n",
    "    model_final.compile(\n",
    "        loss='categorical_crossentropy',\n",
    "        optimizer=opt,\n",
    "        metrics=['accuracy']\n",
    "    )\n",
    "\n",
    "    # Treinar o modelo\n",
    "    history = model_final.fit(\n",
    "        X, y_c,\n",
    "        validation_data=(X_validacao, y_c_validacao),\n",
    "        batch_size=16,\n",
    "        epochs=100,\n",
    "        callbacks=[early_stopping],\n",
    "        verbose=0,\n",
    "    )\n",
    "\n",
    "    pred_test = model_final.predict(X_test)\n",
    "    y_real_test = np.argmax(y_c_test, -1)\n",
    "    y_pred_test = np.argmax(pred_test, -1)\n",
    "\n",
    "    accuracy = accuracy_score(y_real_test, y_pred_test)\n",
    "    precision_0 = precision_score(y_real_test, y_pred_test, pos_label=0)\n",
    "    recall_0 = recall_score(y_real_test, y_pred_test, pos_label=0)\n",
    "    precision_1 = precision_score(y_real_test, y_pred_test, pos_label=1)\n",
    "    recall_1 = recall_score(y_real_test, y_pred_test, pos_label=1)\n",
    "    f1_0 = f1_score(y_real_test, y_pred_test, pos_label=0)\n",
    "    f1_1 = f1_score(y_real_test, y_pred_test, pos_label=1)\n",
    "    cmat = confusion_matrix(y_real_test, y_pred_test)\n",
    "\n",
    "    accuracies.append(accuracy)\n",
    "    precisions_0.append(precision_0)\n",
    "    recalls_0.append(recall_0)\n",
    "    precisions_1.append(precision_1)\n",
    "    recalls_1.append(recall_1)\n",
    "    f1s_0.append(f1_0)\n",
    "    f1s_1.append(f1_1)\n",
    "    cmats.append(cmat)\n",
    "    models.append(model_final)"
   ]
  },
  {
   "cell_type": "code",
   "execution_count": 5,
   "metadata": {},
   "outputs": [],
   "source": [
    "accuracies = np.array(accuracies)\n",
    "precisions_0 = np.array(precisions_0)\n",
    "precisions_1 = np.array(precisions_1)\n",
    "recalls_0 = np.array(recalls_0)\n",
    "recalls_1 = np.array(recalls_1)\n",
    "f1s_0 = np.array(f1s_0)\n",
    "f1s_1 = np.array(f1s_1)\n",
    "cmats = np.array(cmats)"
   ]
  },
  {
   "cell_type": "code",
   "execution_count": 6,
   "metadata": {},
   "outputs": [
    {
     "name": "stdout",
     "output_type": "stream",
     "text": [
      "0.8862222222222222\n",
      "0.03941297649314731\n"
     ]
    }
   ],
   "source": [
    "# Acurácia média e desvio padrão\n",
    "print(accuracies.mean())\n",
    "print(accuracies.std())"
   ]
  },
  {
   "cell_type": "code",
   "execution_count": 7,
   "metadata": {},
   "outputs": [
    {
     "name": "stdout",
     "output_type": "stream",
     "text": [
      "0.918737450954842\n",
      "0.08911475652500923\n"
     ]
    }
   ],
   "source": [
    "# Precisão do alvo média e desvio padrão\n",
    "print(precisions_1.mean())\n",
    "print(precisions_1.std())"
   ]
  },
  {
   "cell_type": "code",
   "execution_count": 8,
   "metadata": {},
   "outputs": [
    {
     "name": "stdout",
     "output_type": "stream",
     "text": [
      "0.8840654740851939\n",
      "0.04922295994246486\n"
     ]
    }
   ],
   "source": [
    "# Precisão dos 'não-alvos' média e desvio padrão\n",
    "print(precisions_0.mean())\n",
    "print(precisions_0.std())"
   ]
  },
  {
   "cell_type": "code",
   "execution_count": 9,
   "metadata": {},
   "outputs": [
    {
     "name": "stdout",
     "output_type": "stream",
     "text": [
      "0.7386666666666666\n",
      "0.12062061736425218\n"
     ]
    }
   ],
   "source": [
    "# Recall do alvo média e desvio padrão\n",
    "print(recalls_1.mean())\n",
    "print(recalls_1.std())"
   ]
  },
  {
   "cell_type": "code",
   "execution_count": 10,
   "metadata": {},
   "outputs": [
    {
     "name": "stdout",
     "output_type": "stream",
     "text": [
      "0.9600000000000003\n",
      "0.055777335102271695\n"
     ]
    }
   ],
   "source": [
    "# Recall do 'não-alvo' média e desvio padrão\n",
    "print(recalls_0.mean())\n",
    "print(recalls_0.std())"
   ]
  },
  {
   "cell_type": "code",
   "execution_count": 11,
   "metadata": {},
   "outputs": [
    {
     "name": "stdout",
     "output_type": "stream",
     "text": [
      "0.809152482455141\n",
      "0.07091699201928202\n"
     ]
    }
   ],
   "source": [
    "# F1 scores do alvo média e desvio padrão\n",
    "print(f1s_1.mean())\n",
    "print(f1s_1.std())"
   ]
  },
  {
   "cell_type": "code",
   "execution_count": 12,
   "metadata": {},
   "outputs": [
    {
     "name": "stdout",
     "output_type": "stream",
     "text": [
      "0.9182307559693977\n",
      "0.02914434661614902\n"
     ]
    }
   ],
   "source": [
    "# F1 scores do 'não-alvo' média e desvio padrão\n",
    "print(f1s_0.mean())\n",
    "print(f1s_0.std())"
   ]
  },
  {
   "cell_type": "code",
   "execution_count": 13,
   "metadata": {},
   "outputs": [],
   "source": [
    "# Melhor modelo em acurácia\n",
    "best_model_ind = accuracies.argmax()"
   ]
  },
  {
   "cell_type": "code",
   "execution_count": 14,
   "metadata": {},
   "outputs": [
    {
     "data": {
      "text/plain": [
       "array([[30,  0],\n",
       "       [ 1, 14]], dtype=int64)"
      ]
     },
     "execution_count": 14,
     "metadata": {},
     "output_type": "execute_result"
    }
   ],
   "source": [
    "cmats[best_model_ind]"
   ]
  },
  {
   "cell_type": "code",
   "execution_count": 15,
   "metadata": {},
   "outputs": [
    {
     "name": "stdout",
     "output_type": "stream",
     "text": [
      "              precision    recall  f1-score   support\n",
      "\n",
      "           0       0.97      1.00      0.98        30\n",
      "           1       1.00      0.93      0.97        15\n",
      "\n",
      "    accuracy                           0.98        45\n",
      "   macro avg       0.98      0.97      0.97        45\n",
      "weighted avg       0.98      0.98      0.98        45\n",
      "\n"
     ]
    }
   ],
   "source": [
    "best_model = models[best_model_ind]\n",
    "pred_test = best_model.predict(X_test)\n",
    "y_real_test = np.argmax(y_c_test, -1)\n",
    "y_pred_test = np.argmax(pred_test, -1)\n",
    "print(classification_report(y_real_test, y_pred_test))\n"
   ]
  },
  {
   "cell_type": "code",
   "execution_count": 16,
   "metadata": {},
   "outputs": [
    {
     "data": {
      "image/png": "[encoded data removed]",
      "text/plain": [
       "<Figure size 864x360 with 1 Axes>"
      ]
     },
     "metadata": {
      "needs_background": "light"
     },
     "output_type": "display_data"
    }
   ],
   "source": [
    "# Matriz de confusão\n",
    "plt.subplots(figsize=(12,5))\n",
    "cmat = confusion_matrix(y_real_test, y_pred_test)\n",
    "\n",
    "axis_label = ['Não é o alvo', 'É o alvo']\n",
    "\n",
    "sns.heatmap(cmat, annot=True, cbar=False, xticklabels=axis_label, yticklabels=axis_label);\n",
    "plt.xlabel('Valor predito', fontsize='18');\n",
    "plt.ylabel('Valor real', fontsize='18');\n"
   ]
  },
  {
   "cell_type": "code",
   "execution_count": 17,
   "metadata": {},
   "outputs": [
    {
     "name": "stdout",
     "output_type": "stream",
     "text": [
      "INFO:tensorflow:Assets written to: modelo_mfcc\\assets\n"
     ]
    }
   ],
   "source": [
    "#Salvar modelo\n",
    "#best_model.save('modelo_mfcc')"
   ]
  }
 ],
 "metadata": {
  "interpreter": {
   "hash": "b3ba2566441a7c06988d0923437866b63cedc61552a5af99d1f4fb67d367b25f"
  },
  "kernelspec": {
   "display_name": "Python 3.7.10 64-bit ('base': conda)",
   "name": "python3"
  },
  "language_info": {
   "codemirror_mode": {
    "name": "ipython",
    "version": 3
   },
   "file_extension": ".py",
   "mimetype": "text/x-python",
   "name": "python",
   "nbconvert_exporter": "python",
   "pygments_lexer": "ipython3",
   "version": "3.7.10"
  },
  "orig_nbformat": 4
 },
 "nbformat": 4,
 "nbformat_minor": 2
}
