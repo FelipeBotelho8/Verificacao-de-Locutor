{
 "cells": [
  {
   "cell_type": "code",
   "execution_count": 51,
   "source": [
    "from numpy.random import seed\r\n",
    "seed(1)\r\n",
    "from tensorflow import random\r\n",
    "random.set_seed(1)\r\n",
    "from utils import *\r\n",
    "import numpy as np\r\n",
    "import pandas as pd\r\n",
    "import os\r\n",
    "import seaborn as sns\r\n",
    "from sklearn.model_selection import StratifiedKFold\r\n",
    "from sklearn.metrics import confusion_matrix, classification_report\r\n",
    "from sklearn.preprocessing import StandardScaler\r\n",
    "import matplotlib.pyplot as plt\r\n",
    "from pickle import dump, load\r\n",
    "\r\n",
    "from tensorflow import keras\r\n",
    "from tensorflow.keras import layers\r\n",
    "from tensorflow.keras import callbacks\r\n",
    "from tensorflow.keras.utils import to_categorical\r\n",
    "%load_ext autoreload\r\n",
    "%autoreload 2\r\n",
    "%matplotlib inline"
   ],
   "outputs": [
    {
     "output_type": "stream",
     "name": "stdout",
     "text": [
      "The autoreload extension is already loaded. To reload it, use:\n",
      "  %reload_ext autoreload\n"
     ]
    }
   ],
   "metadata": {}
  },
  {
   "cell_type": "code",
   "execution_count": 52,
   "source": [
    "# Carregar treino\r\n",
    "X = []\r\n",
    "y = []\r\n",
    "\r\n",
    "dirs = ['audios\\\\amostras_treino', 'audios\\\\minhas_treino']\r\n",
    "label = 0\r\n",
    "for dir in dirs:\r\n",
    "    files = os.listdir(dir)\r\n",
    "    for name_file in files:\r\n",
    "        path = os.path.join(dir, name_file)\r\n",
    "        #coefs = get_mfcc_coefs(path)\r\n",
    "        coefs = get_mfcc_coefs(path)\r\n",
    "        X.append(coefs)\r\n",
    "        y.append(label)\r\n",
    "    label=1\r\n",
    "\r\n",
    "X = np.array(X)\r\n",
    "y = np.array(y)\r\n",
    "y_c = to_categorical(y, 2)\r\n",
    "\r\n",
    "print(X.shape)\r\n",
    "print(y.shape)\r\n",
    "print(y_c.shape)"
   ],
   "outputs": [
    {
     "output_type": "stream",
     "name": "stdout",
     "text": [
      "(90, 3600)\n",
      "(90,)\n",
      "(90, 2)\n"
     ]
    }
   ],
   "metadata": {}
  },
  {
   "cell_type": "code",
   "execution_count": 53,
   "source": [
    "# Scaler\r\n",
    "scaler = StandardScaler()\r\n",
    "scaler = scaler.fit(X)\r\n",
    "X = scaler.transform(X)\r\n",
    "dump(scaler, open('scaler.pkl', 'wb'))"
   ],
   "outputs": [],
   "metadata": {}
  },
  {
   "cell_type": "code",
   "execution_count": 54,
   "source": [
    "# Carregar teste\r\n",
    "X_test = []\r\n",
    "y_test = []\r\n",
    "\r\n",
    "dirs = ['audios\\\\amostras_teste', 'audios\\\\minhas_validacao']\r\n",
    "label = 0\r\n",
    "for dir in dirs:\r\n",
    "    files = os.listdir(dir)\r\n",
    "    for name_file in files:\r\n",
    "        path = os.path.join(dir, name_file)\r\n",
    "        #coefs = get_mfcc_coefs(path)\r\n",
    "        coefs = get_mfcc_coefs(path)\r\n",
    "        X_test.append(coefs)\r\n",
    "        y_test.append(label)\r\n",
    "    label=1\r\n",
    "\r\n",
    "X_test = np.array(X_test)\r\n",
    "y_test = np.array(y_test)\r\n",
    "y_c_test = to_categorical(y_test, 2)\r\n",
    "\r\n",
    "X_test = scaler.transform(X_test)\r\n",
    "\r\n",
    "print(X_test.shape)\r\n",
    "print(y_test.shape)\r\n",
    "print(y_c_test.shape)"
   ],
   "outputs": [
    {
     "output_type": "stream",
     "name": "stdout",
     "text": [
      "(28, 3600)\n",
      "(28,)\n",
      "(28, 2)\n"
     ]
    }
   ],
   "metadata": {}
  },
  {
   "cell_type": "code",
   "execution_count": 55,
   "source": [
    "# Carregar validacao\r\n",
    "X_validacao = []\r\n",
    "y_validacao = []\r\n",
    "\r\n",
    "dirs = ['audios\\\\amostras_validacao', 'audios\\\\minhas_validacao']\r\n",
    "label = 0\r\n",
    "for dir in dirs:\r\n",
    "    files = os.listdir(dir)\r\n",
    "    for name_file in files:\r\n",
    "        path = os.path.join(dir, name_file)\r\n",
    "        #coefs = get_mfcc_coefs(path)\r\n",
    "        coefs = get_mfcc_coefs(path)\r\n",
    "        X_validacao.append(coefs)\r\n",
    "        y_validacao.append(label)\r\n",
    "    label=1\r\n",
    "\r\n",
    "X_validacao = np.array(X_validacao)\r\n",
    "y_validacao = np.array(y_validacao)\r\n",
    "y_c_validacao = to_categorical(y_validacao, 2)\r\n",
    "\r\n",
    "X_validacao = scaler.transform(X_validacao)\r\n",
    "\r\n",
    "print(X_validacao.shape)\r\n",
    "print(y_validacao.shape)\r\n",
    "print(y_c_validacao.shape)"
   ],
   "outputs": [
    {
     "output_type": "stream",
     "name": "stdout",
     "text": [
      "(24, 3600)\n",
      "(24,)\n",
      "(24, 2)\n"
     ]
    }
   ],
   "metadata": {}
  },
  {
   "cell_type": "code",
   "execution_count": 56,
   "source": [
    "# Folds para validação cruzada\r\n",
    "skf = StratifiedKFold(n_splits=5, shuffle=True, random_state=43)"
   ],
   "outputs": [],
   "metadata": {}
  },
  {
   "cell_type": "code",
   "execution_count": 57,
   "source": [
    "# Parada antecipada\r\n",
    "early_stopping = callbacks.EarlyStopping(\r\n",
    "    #min_delta=0.001,\r\n",
    "    min_delta=0,\r\n",
    "    patience=15,\r\n",
    "    monitor='val_loss',\r\n",
    "    restore_best_weights=True\r\n",
    ")\r\n",
    "\r\n",
    "#Otimizador\r\n",
    "opt = keras.optimizers.Adam(learning_rate=0.001)"
   ],
   "outputs": [],
   "metadata": {}
  },
  {
   "cell_type": "code",
   "execution_count": 58,
   "source": [
    "# Treino com validação cruzada para ajuste dos parâmetros\r\n",
    "fold = 0\r\n",
    "scores_train = []\r\n",
    "scores_val = []\r\n",
    "histories_df = []\r\n",
    "imgs_train = []\r\n",
    "imgs_val = []\r\n",
    "for train, val in skf.split(X, y):\r\n",
    "    fold = fold+1\r\n",
    "    print(f'******************************************** FOLD {fold} *****************************************************************')\r\n",
    "    X_train = X[train]\r\n",
    "    X_val = X[val]\r\n",
    "    y_c_train = y_c[train]\r\n",
    "    y_c_val = y_c[val]\r\n",
    "\r\n",
    "    # Criar o modelo\r\n",
    "    model = keras.Sequential([\r\n",
    "        layers.InputLayer(input_shape=[X_train.shape[1]]),\r\n",
    "        layers.BatchNormalization(),\r\n",
    "        #layers.Dense(4501, activation='tanh'),\r\n",
    "        layers.Dense(7201, activation='tanh'),\r\n",
    "        layers.BatchNormalization(),\r\n",
    "        layers.Dropout(0.1),\r\n",
    "        layers.Dense(2, activation='softmax')\r\n",
    "    ])\r\n",
    "\r\n",
    "    # Propriedades do modelo\r\n",
    "    model.compile(\r\n",
    "        loss='categorical_crossentropy',\r\n",
    "        optimizer=opt,\r\n",
    "        #optimizer='adam',\r\n",
    "        metrics=['accuracy']\r\n",
    "    )\r\n",
    "\r\n",
    "    # Treinar o modelo\r\n",
    "    history = model.fit(\r\n",
    "        X_train, y_c_train,\r\n",
    "        validation_data=(X_val, y_c_val),\r\n",
    "        batch_size=16,\r\n",
    "        epochs=100,\r\n",
    "        callbacks=[early_stopping],\r\n",
    "        verbose=0,\r\n",
    "        #shuffle=True\r\n",
    "    )\r\n",
    "    histories_df.append(pd.DataFrame(history.history))\r\n",
    "    score_train = model.evaluate(X_train, y_c_train)\r\n",
    "    scores_train.append(score_train)\r\n",
    "    score_val = model.evaluate(X_val, y_c_val)\r\n",
    "    scores_val.append(score_val)\r\n",
    "    \r\n",
    "    #pred_train = model.predict(X_train)\r\n",
    "    #y_real_train = np.argmax(y_c_train, -1)\r\n",
    "    #y_pred_train = np.argmax(pred_train, -1)\r\n",
    "    #print('TREINO: ')\r\n",
    "    #print(classification_report(y_real_train, y_pred_train))\r\n",
    "    \r\n",
    "    #pred_val = model.predict(X_val)\r\n",
    "    #y_real_val = np.argmax(y_c_val, -1)\r\n",
    "    #y_pred_val = np.argmax(pred_val, -1)\r\n",
    "    #print('VALIDACAO: ')\r\n",
    "    #print(classification_report(y_real_val, y_pred_val))\r\n",
    "    \r\n",
    "    print('--------------------------------------------------------------------------------------------------------')\r\n"
   ],
   "outputs": [
    {
     "output_type": "stream",
     "name": "stdout",
     "text": [
      "******************************************** FOLD 1 *****************************************************************\n",
      "3/3 [==============================] - 0s 18ms/step - loss: 0.0013 - accuracy: 1.0000\n",
      "1/1 [==============================] - 0s 38ms/step - loss: 7.8606e-04 - accuracy: 1.0000\n",
      "--------------------------------------------------------------------------------------------------------\n",
      "******************************************** FOLD 2 *****************************************************************\n",
      "3/3 [==============================] - 0s 21ms/step - loss: 1.0333e-05 - accuracy: 1.0000\n",
      "1/1 [==============================] - 0s 35ms/step - loss: 2.5166e-07 - accuracy: 1.0000\n",
      "--------------------------------------------------------------------------------------------------------\n",
      "******************************************** FOLD 3 *****************************************************************\n",
      "3/3 [==============================] - 0s 18ms/step - loss: 2.0331e-06 - accuracy: 1.0000\n",
      "1/1 [==============================] - 0s 32ms/step - loss: 1.7881e-07 - accuracy: 1.0000\n",
      "--------------------------------------------------------------------------------------------------------\n",
      "******************************************** FOLD 4 *****************************************************************\n",
      "3/3 [==============================] - 0s 18ms/step - loss: 6.9670e-06 - accuracy: 1.0000\n",
      "1/1 [==============================] - 0s 31ms/step - loss: 0.0000e+00 - accuracy: 1.0000\n",
      "--------------------------------------------------------------------------------------------------------\n",
      "******************************************** FOLD 5 *****************************************************************\n",
      "3/3 [==============================] - 0s 20ms/step - loss: 0.0011 - accuracy: 1.0000\n",
      "1/1 [==============================] - 0s 46ms/step - loss: 0.0000e+00 - accuracy: 1.0000\n",
      "--------------------------------------------------------------------------------------------------------\n"
     ]
    }
   ],
   "metadata": {}
  },
  {
   "cell_type": "code",
   "execution_count": 59,
   "source": [
    "#Scores do treino\r\n",
    "scores_train = np.array(scores_train)\r\n",
    "scores_val = np.array(scores_val)\r\n",
    "\r\n",
    "mean_train = (scores_train[:,1]).mean()\r\n",
    "std_train = (scores_train[:,1]).std()\r\n",
    "mean_val = (scores_val[:,1]).mean()\r\n",
    "std_val = (scores_val[:,1]).std()\r\n",
    "\r\n",
    "print('TREINO (Media | Std) : {} | {}'.format(mean_train, std_train))\r\n",
    "print('VALIDACAO (Media | Std) : {} | {}'.format(mean_val, std_val))"
   ],
   "outputs": [
    {
     "output_type": "stream",
     "name": "stdout",
     "text": [
      "TREINO (Media | Std) : 1.0 | 0.0\n",
      "VALIDACAO (Media | Std) : 1.0 | 0.0\n"
     ]
    }
   ],
   "metadata": {}
  },
  {
   "cell_type": "code",
   "execution_count": 60,
   "source": [
    "# Loss no primeiro fold\r\n",
    "histories_df[0][['loss', 'val_loss']].plot()"
   ],
   "outputs": [
    {
     "output_type": "execute_result",
     "data": {
      "text/plain": [
       "<AxesSubplot:>"
      ]
     },
     "metadata": {},
     "execution_count": 60
    },
    {
     "output_type": "display_data",
     "data": {
      "image/png": "[encoded data removed]",
      "text/plain": [
       "<Figure size 432x288 with 1 Axes>"
      ]
     },
     "metadata": {
      "needs_background": "light"
     }
    }
   ],
   "metadata": {}
  },
  {
   "cell_type": "code",
   "execution_count": 61,
   "source": [
    "# Loss no segundo fold\r\n",
    "histories_df[1][['loss', 'val_loss']].plot()"
   ],
   "outputs": [
    {
     "output_type": "execute_result",
     "data": {
      "text/plain": [
       "<AxesSubplot:>"
      ]
     },
     "metadata": {},
     "execution_count": 61
    },
    {
     "output_type": "display_data",
     "data": {
      "image/png": "[encoded data removed]",
      "text/plain": [
       "<Figure size 432x288 with 1 Axes>"
      ]
     },
     "metadata": {
      "needs_background": "light"
     }
    }
   ],
   "metadata": {}
  },
  {
   "cell_type": "code",
   "execution_count": 62,
   "source": [
    "# Loss no terceiro fold\r\n",
    "histories_df[2][['loss', 'val_loss']].plot()"
   ],
   "outputs": [
    {
     "output_type": "execute_result",
     "data": {
      "text/plain": [
       "<AxesSubplot:>"
      ]
     },
     "metadata": {},
     "execution_count": 62
    },
    {
     "output_type": "display_data",
     "data": {
      "image/png": "[encoded data removed]",
      "text/plain": [
       "<Figure size 432x288 with 1 Axes>"
      ]
     },
     "metadata": {
      "needs_background": "light"
     }
    }
   ],
   "metadata": {}
  },
  {
   "cell_type": "code",
   "execution_count": 63,
   "source": [
    "# Loss no quarto fold\r\n",
    "histories_df[3][['loss', 'val_loss']].plot()"
   ],
   "outputs": [
    {
     "output_type": "execute_result",
     "data": {
      "text/plain": [
       "<AxesSubplot:>"
      ]
     },
     "metadata": {},
     "execution_count": 63
    },
    {
     "output_type": "display_data",
     "data": {
      "image/png": "[encoded data removed]",
      "text/plain": [
       "<Figure size 432x288 with 1 Axes>"
      ]
     },
     "metadata": {
      "needs_background": "light"
     }
    }
   ],
   "metadata": {}
  },
  {
   "cell_type": "code",
   "execution_count": 64,
   "source": [
    "# Loss no quinto fold\r\n",
    "histories_df[4][['loss', 'val_loss']].plot()"
   ],
   "outputs": [
    {
     "output_type": "execute_result",
     "data": {
      "text/plain": [
       "<AxesSubplot:>"
      ]
     },
     "metadata": {},
     "execution_count": 64
    },
    {
     "output_type": "display_data",
     "data": {
      "image/png": "[encoded data removed]",
      "text/plain": [
       "<Figure size 432x288 with 1 Axes>"
      ]
     },
     "metadata": {
      "needs_background": "light"
     }
    }
   ],
   "metadata": {}
  },
  {
   "cell_type": "code",
   "execution_count": 65,
   "source": [
    "# Treino principal\r\n",
    "model_final = keras.Sequential([\r\n",
    "        layers.InputLayer(input_shape=[X_train.shape[1]]),\r\n",
    "        layers.BatchNormalization(),\r\n",
    "        #layers.Dense(4501, activation='tanh'),\r\n",
    "        layers.Dense(7201, activation='tanh'),\r\n",
    "        layers.BatchNormalization(),\r\n",
    "        layers.Dropout(0.1),\r\n",
    "        layers.Dense(2, activation='softmax')\r\n",
    "    ])\r\n",
    "\r\n",
    "# Propriedades do modelo\r\n",
    "model_final.compile(\r\n",
    "    loss='categorical_crossentropy',\r\n",
    "    optimizer=opt,\r\n",
    "    #optimizer='adam',\r\n",
    "    metrics=['accuracy']\r\n",
    ")\r\n",
    "\r\n",
    "# Treinar o modelo\r\n",
    "history = model_final.fit(\r\n",
    "    X, y_c,\r\n",
    "    validation_data=(X_validacao, y_c_validacao),\r\n",
    "    batch_size=16,\r\n",
    "    epochs=100,\r\n",
    "    callbacks=[early_stopping],\r\n",
    "    verbose=1,\r\n",
    "    #shuffle=True\r\n",
    " )"
   ],
   "outputs": [
    {
     "output_type": "stream",
     "name": "stdout",
     "text": [
      "Epoch 1/100\n",
      "6/6 [==============================] - 2s 220ms/step - loss: 9.5397 - accuracy: 0.6000 - val_loss: 4.7809 - val_accuracy: 0.6250\n",
      "Epoch 2/100\n",
      "6/6 [==============================] - 1s 173ms/step - loss: 3.4563 - accuracy: 0.6222 - val_loss: 0.0362 - val_accuracy: 0.9583\n",
      "Epoch 3/100\n",
      "6/6 [==============================] - 1s 179ms/step - loss: 2.1911 - accuracy: 0.7556 - val_loss: 0.8086 - val_accuracy: 0.8750\n",
      "Epoch 4/100\n",
      "6/6 [==============================] - 1s 198ms/step - loss: 0.4030 - accuracy: 0.9111 - val_loss: 1.9030 - val_accuracy: 0.7917\n",
      "Epoch 5/100\n",
      "6/6 [==============================] - 1s 163ms/step - loss: 0.3325 - accuracy: 0.9333 - val_loss: 0.7522 - val_accuracy: 0.8333\n",
      "Epoch 6/100\n",
      "6/6 [==============================] - 1s 161ms/step - loss: 0.1017 - accuracy: 0.9889 - val_loss: 0.7258 - val_accuracy: 0.9583\n",
      "Epoch 7/100\n",
      "6/6 [==============================] - 1s 163ms/step - loss: 0.1175 - accuracy: 0.9556 - val_loss: 0.1608 - val_accuracy: 0.9583\n",
      "Epoch 8/100\n",
      "6/6 [==============================] - 1s 170ms/step - loss: 0.1832 - accuracy: 0.9333 - val_loss: 0.0989 - val_accuracy: 0.9583\n",
      "Epoch 9/100\n",
      "6/6 [==============================] - 1s 162ms/step - loss: 0.0161 - accuracy: 0.9889 - val_loss: 0.0921 - val_accuracy: 0.9583\n",
      "Epoch 10/100\n",
      "6/6 [==============================] - 1s 167ms/step - loss: 0.1364 - accuracy: 0.9778 - val_loss: 3.0137e-05 - val_accuracy: 1.0000\n",
      "Epoch 11/100\n",
      "6/6 [==============================] - 1s 161ms/step - loss: 0.0011 - accuracy: 1.0000 - val_loss: 8.9996e-06 - val_accuracy: 1.0000\n",
      "Epoch 12/100\n",
      "6/6 [==============================] - 1s 164ms/step - loss: 0.1188 - accuracy: 0.9778 - val_loss: 1.9226e-04 - val_accuracy: 1.0000\n",
      "Epoch 13/100\n",
      "6/6 [==============================] - 1s 165ms/step - loss: 2.1780e-05 - accuracy: 1.0000 - val_loss: 3.7089e-04 - val_accuracy: 1.0000\n",
      "Epoch 14/100\n",
      "6/6 [==============================] - 1s 192ms/step - loss: 0.0059 - accuracy: 1.0000 - val_loss: 9.0817e-05 - val_accuracy: 1.0000\n",
      "Epoch 15/100\n",
      "6/6 [==============================] - 1s 199ms/step - loss: 3.6551e-05 - accuracy: 1.0000 - val_loss: 4.1572e-06 - val_accuracy: 1.0000\n",
      "Epoch 16/100\n",
      "6/6 [==============================] - 1s 170ms/step - loss: 2.5156e-05 - accuracy: 1.0000 - val_loss: 1.9119e-05 - val_accuracy: 1.0000\n",
      "Epoch 17/100\n",
      "6/6 [==============================] - 1s 159ms/step - loss: 5.7039e-04 - accuracy: 1.0000 - val_loss: 4.3067e-05 - val_accuracy: 1.0000\n",
      "Epoch 18/100\n",
      "6/6 [==============================] - 1s 153ms/step - loss: 2.4298e-04 - accuracy: 1.0000 - val_loss: 6.3163e-05 - val_accuracy: 1.0000\n",
      "Epoch 19/100\n",
      "6/6 [==============================] - 1s 150ms/step - loss: 9.9341e-08 - accuracy: 1.0000 - val_loss: 7.2724e-05 - val_accuracy: 1.0000\n",
      "Epoch 20/100\n",
      "6/6 [==============================] - 1s 196ms/step - loss: 6.4688e-05 - accuracy: 1.0000 - val_loss: 7.0443e-05 - val_accuracy: 1.0000\n",
      "Epoch 21/100\n",
      "6/6 [==============================] - 1s 197ms/step - loss: 0.0325 - accuracy: 0.9889 - val_loss: 1.7302e-05 - val_accuracy: 1.0000\n",
      "Epoch 22/100\n",
      "6/6 [==============================] - 1s 184ms/step - loss: 4.1452e-06 - accuracy: 1.0000 - val_loss: 4.4553e-06 - val_accuracy: 1.0000\n",
      "Epoch 23/100\n",
      "6/6 [==============================] - 1s 167ms/step - loss: 5.0256e-06 - accuracy: 1.0000 - val_loss: 2.3314e-05 - val_accuracy: 1.0000\n",
      "Epoch 24/100\n",
      "6/6 [==============================] - 1s 176ms/step - loss: 9.6820e-07 - accuracy: 1.0000 - val_loss: 6.5901e-05 - val_accuracy: 1.0000\n",
      "Epoch 25/100\n",
      "6/6 [==============================] - 1s 169ms/step - loss: 0.0054 - accuracy: 1.0000 - val_loss: 5.4795e-05 - val_accuracy: 1.0000\n",
      "Epoch 26/100\n",
      "6/6 [==============================] - 1s 196ms/step - loss: 2.2546e-05 - accuracy: 1.0000 - val_loss: 1.4511e-05 - val_accuracy: 1.0000\n",
      "Epoch 27/100\n",
      "6/6 [==============================] - 1s 203ms/step - loss: 2.3842e-08 - accuracy: 1.0000 - val_loss: 6.9881e-06 - val_accuracy: 1.0000\n",
      "Epoch 28/100\n",
      "6/6 [==============================] - 1s 161ms/step - loss: 7.2850e-08 - accuracy: 1.0000 - val_loss: 6.0047e-06 - val_accuracy: 1.0000\n",
      "Epoch 29/100\n",
      "6/6 [==============================] - 1s 170ms/step - loss: 1.0239e-06 - accuracy: 1.0000 - val_loss: 4.7681e-06 - val_accuracy: 1.0000\n",
      "Epoch 30/100\n",
      "6/6 [==============================] - 1s 183ms/step - loss: 3.1789e-08 - accuracy: 1.0000 - val_loss: 4.7234e-06 - val_accuracy: 1.0000\n"
     ]
    }
   ],
   "metadata": {}
  },
  {
   "cell_type": "code",
   "execution_count": 66,
   "source": [
    "# Avaliação no grupo de teste\r\n",
    "model_final.evaluate(X_test, y_c_test)"
   ],
   "outputs": [
    {
     "output_type": "stream",
     "name": "stdout",
     "text": [
      "1/1 [==============================] - 0s 40ms/step - loss: 1.0888e-04 - accuracy: 1.0000\n"
     ]
    },
    {
     "output_type": "execute_result",
     "data": {
      "text/plain": [
       "[0.00010887964890571311, 1.0]"
      ]
     },
     "metadata": {},
     "execution_count": 66
    }
   ],
   "metadata": {}
  },
  {
   "cell_type": "code",
   "execution_count": 67,
   "source": [
    "# Estatísticas do teste\r\n",
    "pred_test = model_final.predict(X_test)\r\n",
    "y_real_test = np.argmax(y_c_test, -1)\r\n",
    "y_pred_test = np.argmax(pred_test, -1)\r\n",
    "print(classification_report(y_real_test, y_pred_test))"
   ],
   "outputs": [
    {
     "output_type": "stream",
     "name": "stdout",
     "text": [
      "              precision    recall  f1-score   support\n",
      "\n",
      "           0       1.00      1.00      1.00        20\n",
      "           1       1.00      1.00      1.00         8\n",
      "\n",
      "    accuracy                           1.00        28\n",
      "   macro avg       1.00      1.00      1.00        28\n",
      "weighted avg       1.00      1.00      1.00        28\n",
      "\n"
     ]
    }
   ],
   "metadata": {}
  },
  {
   "cell_type": "code",
   "execution_count": 68,
   "source": [
    "# Matriz de confusão\r\n",
    "plt.subplots(figsize=(12,5))\r\n",
    "cmat = confusion_matrix(y_real_test, y_pred_test)\r\n",
    "sns.heatmap(cmat, annot=True, cbar=False)\r\n"
   ],
   "outputs": [
    {
     "output_type": "execute_result",
     "data": {
      "text/plain": [
       "<AxesSubplot:>"
      ]
     },
     "metadata": {},
     "execution_count": 68
    },
    {
     "output_type": "display_data",
     "data": {
      "image/png": "[encoded data removed]",
      "text/plain": [
       "<Figure size 864x360 with 1 Axes>"
      ]
     },
     "metadata": {
      "needs_background": "light"
     }
    }
   ],
   "metadata": {}
  },
  {
   "cell_type": "code",
   "execution_count": 69,
   "source": [
    "y_pred_test"
   ],
   "outputs": [
    {
     "output_type": "execute_result",
     "data": {
      "text/plain": [
       "array([0, 0, 0, 0, 0, 0, 0, 0, 0, 0, 0, 0, 0, 0, 0, 0, 0, 0, 0, 0, 1, 1,\n",
       "       1, 1, 1, 1, 1, 1], dtype=int64)"
      ]
     },
     "metadata": {},
     "execution_count": 69
    }
   ],
   "metadata": {}
  },
  {
   "cell_type": "code",
   "execution_count": null,
   "source": [
    "#Salvar modelo\r\n",
    "#model_final.save('modelo_mfcc')"
   ],
   "outputs": [],
   "metadata": {}
  }
 ],
 "metadata": {
  "orig_nbformat": 4,
  "language_info": {
   "name": "python",
   "version": "3.7.10",
   "mimetype": "text/x-python",
   "codemirror_mode": {
    "name": "ipython",
    "version": 3
   },
   "pygments_lexer": "ipython3",
   "nbconvert_exporter": "python",
   "file_extension": ".py"
  },
  "kernelspec": {
   "name": "python3",
   "display_name": "Python 3.7.10 64-bit ('base': conda)"
  },
  "interpreter": {
   "hash": "b3ba2566441a7c06988d0923437866b63cedc61552a5af99d1f4fb67d367b25f"
  }
 },
 "nbformat": 4,
 "nbformat_minor": 2
}