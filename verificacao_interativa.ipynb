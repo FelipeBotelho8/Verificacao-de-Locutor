{
 "cells": [
  {
   "cell_type": "code",
   "execution_count": 8,
   "source": [
    "from pickle import load\r\n",
    "from utils import *\r\n",
    "import soundfile as sf\r\n",
    "import gradio as gr\r\n",
    "from tensorflow import keras\r\n",
    "\r\n",
    "%load_ext autoreload\r\n",
    "%autoreload 2"
   ],
   "outputs": [
    {
     "output_type": "stream",
     "name": "stdout",
     "text": [
      "The autoreload extension is already loaded. To reload it, use:\n",
      "  %reload_ext autoreload\n"
     ]
    }
   ],
   "metadata": {}
  },
  {
   "cell_type": "code",
   "execution_count": 9,
   "source": [
    "def get_coefs(audio):\r\n",
    "    sr, data = audio\r\n",
    "    scaler = load(open('scaler.pkl', 'rb'))\r\n",
    "    model = keras.models.load_model('modelo_mfcc')\r\n",
    "    sf.write('teste.wav', data, sr)\r\n",
    "    coefs = get_mfcc_coefs('teste.wav')\r\n",
    "    coefs = coefs.reshape(1, coefs.shape[0])\r\n",
    "    coefs = scaler.transform(coefs)\r\n",
    "    pred = model.predict(coefs)\r\n",
    "\r\n",
    "    return pred"
   ],
   "outputs": [],
   "metadata": {}
  },
  {
   "cell_type": "code",
   "execution_count": 10,
   "source": [
    "iface = gr.Interface(fn=get_coefs, inputs='microphone', outputs='text')"
   ],
   "outputs": [],
   "metadata": {}
  },
  {
   "cell_type": "code",
   "execution_count": 11,
   "source": [
    "iface.test_launch()\r\n",
    "iface.launch()"
   ],
   "outputs": [
    {
     "output_type": "stream",
     "name": "stdout",
     "text": [
      "Test launch: get_coefs()... "
     ]
    },
    {
     "output_type": "stream",
     "name": "stderr",
     "text": [
      "C:\\ProgramData\\Anaconda3\\lib\\site-packages\\gradio\\inputs.py:903: WavFileWarning: Chunk (non-data) not understood, skipping it.\n",
      "  return scipy.io.wavfile.read(file_obj.name)\n"
     ]
    },
    {
     "output_type": "stream",
     "name": "stdout",
     "text": [
      "PASSED\n",
      "Running locally at: http://127.0.0.1:7861/\n",
      "To create a public link, set `share=True` in `launch()`.\n",
      "Interface loading below...\n"
     ]
    },
    {
     "output_type": "display_data",
     "data": {
      "text/html": [
       "\n",
       "        <iframe\n",
       "            width=\"900\"\n",
       "            height=\"500\"\n",
       "            src=\"http://127.0.0.1:7861/\"\n",
       "            frameborder=\"0\"\n",
       "            allowfullscreen\n",
       "        ></iframe>\n",
       "        "
      ],
      "text/plain": [
       "<IPython.lib.display.IFrame at 0x19eb0535208>"
      ]
     },
     "metadata": {}
    },
    {
     "output_type": "execute_result",
     "data": {
      "text/plain": [
       "(<Flask 'gradio.networking'>, 'http://127.0.0.1:7861/', None)"
      ]
     },
     "metadata": {},
     "execution_count": 11
    },
    {
     "output_type": "stream",
     "name": "stderr",
     "text": [
      "C:\\ProgramData\\Anaconda3\\lib\\site-packages\\gradio\\inputs.py:903: WavFileWarning: Reached EOF prematurely; finished at 426028 bytes, expected 426036 bytes from header.\n",
      "  return scipy.io.wavfile.read(file_obj.name)\n",
      "C:\\ProgramData\\Anaconda3\\lib\\site-packages\\gradio\\inputs.py:903: WavFileWarning: Reached EOF prematurely; finished at 614444 bytes, expected 614452 bytes from header.\n",
      "  return scipy.io.wavfile.read(file_obj.name)\n",
      "C:\\ProgramData\\Anaconda3\\lib\\site-packages\\gradio\\inputs.py:903: WavFileWarning: Reached EOF prematurely; finished at 516140 bytes, expected 516148 bytes from header.\n",
      "  return scipy.io.wavfile.read(file_obj.name)\n"
     ]
    },
    {
     "output_type": "stream",
     "name": "stdout",
     "text": [
      "WARNING:tensorflow:5 out of the last 5 calls to <function Model.make_predict_function.<locals>.predict_function at 0x0000019EB520FE58> triggered tf.function retracing. Tracing is expensive and the excessive number of tracings could be due to (1) creating @tf.function repeatedly in a loop, (2) passing tensors with different shapes, (3) passing Python objects instead of tensors. For (1), please define your @tf.function outside of the loop. For (2), @tf.function has experimental_relax_shapes=True option that relaxes argument shapes that can avoid unnecessary retracing. For (3), please refer to https://www.tensorflow.org/guide/function#controlling_retracing and https://www.tensorflow.org/api_docs/python/tf/function for  more details.\n"
     ]
    },
    {
     "output_type": "stream",
     "name": "stderr",
     "text": [
      "C:\\ProgramData\\Anaconda3\\lib\\site-packages\\gradio\\inputs.py:903: WavFileWarning: Reached EOF prematurely; finished at 499756 bytes, expected 499764 bytes from header.\n",
      "  return scipy.io.wavfile.read(file_obj.name)\n"
     ]
    },
    {
     "output_type": "stream",
     "name": "stdout",
     "text": [
      "WARNING:tensorflow:6 out of the last 6 calls to <function Model.make_predict_function.<locals>.predict_function at 0x0000019EB54D7318> triggered tf.function retracing. Tracing is expensive and the excessive number of tracings could be due to (1) creating @tf.function repeatedly in a loop, (2) passing tensors with different shapes, (3) passing Python objects instead of tensors. For (1), please define your @tf.function outside of the loop. For (2), @tf.function has experimental_relax_shapes=True option that relaxes argument shapes that can avoid unnecessary retracing. For (3), please refer to https://www.tensorflow.org/guide/function#controlling_retracing and https://www.tensorflow.org/api_docs/python/tf/function for  more details.\n"
     ]
    },
    {
     "output_type": "stream",
     "name": "stderr",
     "text": [
      "C:\\ProgramData\\Anaconda3\\lib\\site-packages\\gradio\\inputs.py:903: WavFileWarning: Reached EOF prematurely; finished at 426028 bytes, expected 426036 bytes from header.\n",
      "  return scipy.io.wavfile.read(file_obj.name)\n"
     ]
    }
   ],
   "metadata": {}
  }
 ],
 "metadata": {
  "orig_nbformat": 4,
  "language_info": {
   "name": "python",
   "version": "3.7.10",
   "mimetype": "text/x-python",
   "codemirror_mode": {
    "name": "ipython",
    "version": 3
   },
   "pygments_lexer": "ipython3",
   "nbconvert_exporter": "python",
   "file_extension": ".py"
  },
  "kernelspec": {
   "name": "python3",
   "display_name": "Python 3.7.10 64-bit ('base': conda)"
  },
  "interpreter": {
   "hash": "b3ba2566441a7c06988d0923437866b63cedc61552a5af99d1f4fb67d367b25f"
  }
 },
 "nbformat": 4,
 "nbformat_minor": 2
}