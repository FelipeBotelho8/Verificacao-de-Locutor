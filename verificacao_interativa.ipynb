{
 "cells": [
  {
   "cell_type": "code",
   "execution_count": 7,
   "metadata": {},
   "outputs": [
    {
     "name": "stdout",
     "output_type": "stream",
     "text": [
      "The autoreload extension is already loaded. To reload it, use:\n",
      "  %reload_ext autoreload\n"
     ]
    }
   ],
   "source": [
    "from pickle import load\n",
    "from utils import *\n",
    "import soundfile as sf\n",
    "import gradio as gr\n",
    "import numpy as np\n",
    "from tensorflow import keras\n",
    "\n",
    "%load_ext autoreload\n",
    "%autoreload 2"
   ]
  },
  {
   "cell_type": "code",
   "execution_count": 8,
   "metadata": {},
   "outputs": [],
   "source": [
    "def get_coefs(audio):\n",
    "    ''' \n",
    "    Função para a interface que grava o audio, calcula os coeficientes e informa\n",
    "    a predição\n",
    "\n",
    "    Input: audio - Tupla com a frequência de amostragem e os dados do audio gravado\n",
    "    Output - Resultado da previsão: 'Olá' se o audio for reconhecido\n",
    "                                    'Não reconhecido' caso contrário\n",
    "    '''\n",
    "    # Obter audio\n",
    "    sr, data = audio\n",
    "\n",
    "    # Importar scaler e modele\n",
    "    scaler = load(open('scaler.pkl', 'rb'))\n",
    "    model = keras.models.load_model('modelo_mfcc')\n",
    "\n",
    "    # Salvar audio gravado\n",
    "    sf.write('teste.wav', data, sr)\n",
    "\n",
    "    # Obter os coeficientes do audio gravado\n",
    "    coefs = get_mfcc_coefs('teste.wav')\n",
    "    coefs = coefs.reshape(1, coefs.shape[0])\n",
    "    coefs = scaler.transform(coefs)\n",
    "\n",
    "    # Fazer a predição\n",
    "    pred = np.argmax(model.predict(coefs), -1)[0]\n",
    "\n",
    "    dic = {0:'Não reconhecido', 1: 'Olá!!!'}\n",
    "\n",
    "    return dic[pred]"
   ]
  },
  {
   "cell_type": "code",
   "execution_count": 9,
   "metadata": {},
   "outputs": [],
   "source": [
    "# Criar a interface\n",
    "iface = gr.Interface(fn=get_coefs, inputs='microphone', outputs='text')"
   ]
  },
  {
   "cell_type": "code",
   "execution_count": null,
   "metadata": {},
   "outputs": [],
   "source": [
    "iface.test_launch()\n",
    "iface.launch()"
   ]
  }
 ],
 "metadata": {
  "interpreter": {
   "hash": "b3ba2566441a7c06988d0923437866b63cedc61552a5af99d1f4fb67d367b25f"
  },
  "kernelspec": {
   "display_name": "Python 3.7.10 64-bit ('base': conda)",
   "name": "python3"
  },
  "language_info": {
   "codemirror_mode": {
    "name": "ipython",
    "version": 3
   },
   "file_extension": ".py",
   "mimetype": "text/x-python",
   "name": "python",
   "nbconvert_exporter": "python",
   "pygments_lexer": "ipython3",
   "version": "3.7.10"
  },
  "orig_nbformat": 4
 },
 "nbformat": 4,
 "nbformat_minor": 2
}
