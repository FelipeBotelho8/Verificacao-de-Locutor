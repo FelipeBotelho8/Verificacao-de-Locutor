{
 "cells": [
  {
   "cell_type": "code",
   "execution_count": 1,
   "metadata": {},
   "outputs": [],
   "source": [
    "from pickle import load\n",
    "from utils import *\n",
    "import soundfile as sf\n",
    "import gradio as gr\n",
    "import numpy as np\n",
    "from tensorflow import keras\n",
    "\n",
    "%load_ext autoreload\n",
    "%autoreload 2"
   ]
  },
  {
   "cell_type": "code",
   "execution_count": 2,
   "metadata": {},
   "outputs": [],
   "source": [
    "def get_coefs(audio):\n",
    "    ''' \n",
    "    Função para a interface que grava o audio, calcula os coeficientes e informa\n",
    "    a predição\n",
    "\n",
    "    Input: audio - Tupla com a frequência de amostragem e os dados do audio gravado\n",
    "    Output - Resultado da previsão: 'Olá' se o audio for reconhecido\n",
    "                                    'Não reconhecido' caso contrário\n",
    "    '''\n",
    "    # Obter audio\n",
    "    sr, data = audio\n",
    "\n",
    "    # Importar scaler e modele\n",
    "    scaler = load(open('scaler.pkl', 'rb'))\n",
    "    model = keras.models.load_model('modelo_mfcc')\n",
    "\n",
    "    # Salvar audio gravado\n",
    "    sf.write('teste.wav', data, sr)\n",
    "\n",
    "    # Obter os coeficientes do audio gravado\n",
    "    coefs = get_mfcc_coefs('teste.wav')\n",
    "    coefs = coefs.reshape(1, coefs.shape[0])\n",
    "    coefs = scaler.transform(coefs)\n",
    "\n",
    "    # Fazer a predição\n",
    "    pred = np.argmax(model.predict(coefs), -1)[0]\n",
    "\n",
    "    dic = {0:'Não reconhecido', 1: 'Olá!!!'}\n",
    "\n",
    "    return dic[pred]"
   ]
  },
  {
   "cell_type": "code",
   "execution_count": 3,
   "metadata": {},
   "outputs": [],
   "source": [
    "# Criar a interface\n",
    "iface = gr.Interface(fn=get_coefs, inputs='microphone', outputs='text')"
   ]
  },
  {
   "cell_type": "code",
   "execution_count": 4,
   "metadata": {},
   "outputs": [
    {
     "name": "stdout",
     "output_type": "stream",
     "text": [
      "Test launch: get_coefs()... "
     ]
    },
    {
     "name": "stderr",
     "output_type": "stream",
     "text": [
      "C:\\ProgramData\\Anaconda3\\lib\\site-packages\\gradio\\inputs.py:903: WavFileWarning: Chunk (non-data) not understood, skipping it.\n",
      "  return scipy.io.wavfile.read(file_obj.name)\n"
     ]
    },
    {
     "name": "stdout",
     "output_type": "stream",
     "text": [
      "PASSED\n",
      "Running locally at: http://127.0.0.1:7860/\n",
      "To create a public link, set `share=True` in `launch()`.\n",
      "Interface loading below...\n"
     ]
    },
    {
     "data": {
      "text/html": [
       "\n",
       "        <iframe\n",
       "            width=\"900\"\n",
       "            height=\"500\"\n",
       "            src=\"http://127.0.0.1:7860/\"\n",
       "            frameborder=\"0\"\n",
       "            allowfullscreen\n",
       "        ></iframe>\n",
       "        "
      ],
      "text/plain": [
       "<IPython.lib.display.IFrame at 0x2560199b708>"
      ]
     },
     "metadata": {},
     "output_type": "display_data"
    },
    {
     "data": {
      "text/plain": [
       "(<Flask 'gradio.networking'>, 'http://127.0.0.1:7860/', None)"
      ]
     },
     "execution_count": 4,
     "metadata": {},
     "output_type": "execute_result"
    },
    {
     "name": "stderr",
     "output_type": "stream",
     "text": [
      "C:\\ProgramData\\Anaconda3\\lib\\site-packages\\gradio\\inputs.py:903: WavFileWarning: Reached EOF prematurely; finished at 319532 bytes, expected 319540 bytes from header.\n",
      "  return scipy.io.wavfile.read(file_obj.name)\n",
      "C:\\ProgramData\\Anaconda3\\lib\\site-packages\\gradio\\inputs.py:903: WavFileWarning: Reached EOF prematurely; finished at 360492 bytes, expected 360500 bytes from header.\n",
      "  return scipy.io.wavfile.read(file_obj.name)\n",
      "C:\\ProgramData\\Anaconda3\\lib\\site-packages\\gradio\\inputs.py:903: WavFileWarning: Reached EOF prematurely; finished at 401452 bytes, expected 401460 bytes from header.\n",
      "  return scipy.io.wavfile.read(file_obj.name)\n",
      "C:\\ProgramData\\Anaconda3\\lib\\site-packages\\gradio\\inputs.py:903: WavFileWarning: Reached EOF prematurely; finished at 376876 bytes, expected 376884 bytes from header.\n",
      "  return scipy.io.wavfile.read(file_obj.name)\n"
     ]
    },
    {
     "name": "stdout",
     "output_type": "stream",
     "text": [
      "WARNING:tensorflow:5 out of the last 5 calls to <function Model.make_predict_function.<locals>.predict_function at 0x00000256467F55E8> triggered tf.function retracing. Tracing is expensive and the excessive number of tracings could be due to (1) creating @tf.function repeatedly in a loop, (2) passing tensors with different shapes, (3) passing Python objects instead of tensors. For (1), please define your @tf.function outside of the loop. For (2), @tf.function has experimental_relax_shapes=True option that relaxes argument shapes that can avoid unnecessary retracing. For (3), please refer to https://www.tensorflow.org/guide/function#controlling_retracing and https://www.tensorflow.org/api_docs/python/tf/function for  more details.\n"
     ]
    },
    {
     "name": "stderr",
     "output_type": "stream",
     "text": [
      "C:\\ProgramData\\Anaconda3\\lib\\site-packages\\gradio\\inputs.py:903: WavFileWarning: Reached EOF prematurely; finished at 458796 bytes, expected 458804 bytes from header.\n",
      "  return scipy.io.wavfile.read(file_obj.name)\n"
     ]
    },
    {
     "name": "stdout",
     "output_type": "stream",
     "text": [
      "WARNING:tensorflow:6 out of the last 6 calls to <function Model.make_predict_function.<locals>.predict_function at 0x0000025602CCF1F8> triggered tf.function retracing. Tracing is expensive and the excessive number of tracings could be due to (1) creating @tf.function repeatedly in a loop, (2) passing tensors with different shapes, (3) passing Python objects instead of tensors. For (1), please define your @tf.function outside of the loop. For (2), @tf.function has experimental_relax_shapes=True option that relaxes argument shapes that can avoid unnecessary retracing. For (3), please refer to https://www.tensorflow.org/guide/function#controlling_retracing and https://www.tensorflow.org/api_docs/python/tf/function for  more details.\n"
     ]
    },
    {
     "name": "stderr",
     "output_type": "stream",
     "text": [
      "C:\\ProgramData\\Anaconda3\\lib\\site-packages\\gradio\\inputs.py:903: WavFileWarning: Reached EOF prematurely; finished at 385068 bytes, expected 385076 bytes from header.\n",
      "  return scipy.io.wavfile.read(file_obj.name)\n",
      "C:\\ProgramData\\Anaconda3\\lib\\site-packages\\gradio\\inputs.py:903: WavFileWarning: Reached EOF prematurely; finished at 319532 bytes, expected 319540 bytes from header.\n",
      "  return scipy.io.wavfile.read(file_obj.name)\n",
      "C:\\ProgramData\\Anaconda3\\lib\\site-packages\\gradio\\inputs.py:903: WavFileWarning: Reached EOF prematurely; finished at 426028 bytes, expected 426036 bytes from header.\n",
      "  return scipy.io.wavfile.read(file_obj.name)\n",
      "C:\\ProgramData\\Anaconda3\\lib\\site-packages\\gradio\\inputs.py:903: WavFileWarning: Reached EOF prematurely; finished at 532524 bytes, expected 532532 bytes from header.\n",
      "  return scipy.io.wavfile.read(file_obj.name)\n",
      "C:\\ProgramData\\Anaconda3\\lib\\site-packages\\gradio\\inputs.py:903: WavFileWarning: Reached EOF prematurely; finished at 376876 bytes, expected 376884 bytes from header.\n",
      "  return scipy.io.wavfile.read(file_obj.name)\n",
      "C:\\ProgramData\\Anaconda3\\lib\\site-packages\\gradio\\inputs.py:903: WavFileWarning: Reached EOF prematurely; finished at 565292 bytes, expected 565300 bytes from header.\n",
      "  return scipy.io.wavfile.read(file_obj.name)\n",
      "C:\\ProgramData\\Anaconda3\\lib\\site-packages\\gradio\\inputs.py:903: WavFileWarning: Reached EOF prematurely; finished at 376876 bytes, expected 376884 bytes from header.\n",
      "  return scipy.io.wavfile.read(file_obj.name)\n",
      "C:\\ProgramData\\Anaconda3\\lib\\site-packages\\gradio\\inputs.py:903: WavFileWarning: Reached EOF prematurely; finished at 409644 bytes, expected 409652 bytes from header.\n",
      "  return scipy.io.wavfile.read(file_obj.name)\n",
      "C:\\ProgramData\\Anaconda3\\lib\\site-packages\\gradio\\inputs.py:903: WavFileWarning: Reached EOF prematurely; finished at 491564 bytes, expected 491572 bytes from header.\n",
      "  return scipy.io.wavfile.read(file_obj.name)\n",
      "C:\\ProgramData\\Anaconda3\\lib\\site-packages\\gradio\\inputs.py:903: WavFileWarning: Reached EOF prematurely; finished at 401452 bytes, expected 401460 bytes from header.\n",
      "  return scipy.io.wavfile.read(file_obj.name)\n",
      "C:\\ProgramData\\Anaconda3\\lib\\site-packages\\gradio\\inputs.py:903: WavFileWarning: Reached EOF prematurely; finished at 548908 bytes, expected 548916 bytes from header.\n",
      "  return scipy.io.wavfile.read(file_obj.name)\n",
      "C:\\ProgramData\\Anaconda3\\lib\\site-packages\\gradio\\inputs.py:903: WavFileWarning: Reached EOF prematurely; finished at 368684 bytes, expected 368692 bytes from header.\n",
      "  return scipy.io.wavfile.read(file_obj.name)\n",
      "C:\\ProgramData\\Anaconda3\\lib\\site-packages\\gradio\\inputs.py:903: WavFileWarning: Reached EOF prematurely; finished at 426028 bytes, expected 426036 bytes from header.\n",
      "  return scipy.io.wavfile.read(file_obj.name)\n",
      "C:\\ProgramData\\Anaconda3\\lib\\site-packages\\gradio\\inputs.py:903: WavFileWarning: Reached EOF prematurely; finished at 393260 bytes, expected 393268 bytes from header.\n",
      "  return scipy.io.wavfile.read(file_obj.name)\n",
      "C:\\ProgramData\\Anaconda3\\lib\\site-packages\\gradio\\inputs.py:903: WavFileWarning: Reached EOF prematurely; finished at 450604 bytes, expected 450612 bytes from header.\n",
      "  return scipy.io.wavfile.read(file_obj.name)\n",
      "C:\\ProgramData\\Anaconda3\\lib\\site-packages\\gradio\\inputs.py:903: WavFileWarning: Reached EOF prematurely; finished at 450604 bytes, expected 450612 bytes from header.\n",
      "  return scipy.io.wavfile.read(file_obj.name)\n",
      "C:\\ProgramData\\Anaconda3\\lib\\site-packages\\gradio\\inputs.py:903: WavFileWarning: Reached EOF prematurely; finished at 352300 bytes, expected 352308 bytes from header.\n",
      "  return scipy.io.wavfile.read(file_obj.name)\n",
      "C:\\ProgramData\\Anaconda3\\lib\\site-packages\\gradio\\inputs.py:903: WavFileWarning: Reached EOF prematurely; finished at 450604 bytes, expected 450612 bytes from header.\n",
      "  return scipy.io.wavfile.read(file_obj.name)\n",
      "C:\\ProgramData\\Anaconda3\\lib\\site-packages\\gradio\\inputs.py:903: WavFileWarning: Reached EOF prematurely; finished at 409644 bytes, expected 409652 bytes from header.\n",
      "  return scipy.io.wavfile.read(file_obj.name)\n",
      "C:\\ProgramData\\Anaconda3\\lib\\site-packages\\gradio\\inputs.py:903: WavFileWarning: Reached EOF prematurely; finished at 409644 bytes, expected 409652 bytes from header.\n",
      "  return scipy.io.wavfile.read(file_obj.name)\n",
      "C:\\ProgramData\\Anaconda3\\lib\\site-packages\\gradio\\inputs.py:903: WavFileWarning: Reached EOF prematurely; finished at 655404 bytes, expected 655412 bytes from header.\n",
      "  return scipy.io.wavfile.read(file_obj.name)\n",
      "C:\\ProgramData\\Anaconda3\\lib\\site-packages\\gradio\\inputs.py:903: WavFileWarning: Reached EOF prematurely; finished at 426028 bytes, expected 426036 bytes from header.\n",
      "  return scipy.io.wavfile.read(file_obj.name)\n",
      "C:\\ProgramData\\Anaconda3\\lib\\site-packages\\gradio\\inputs.py:903: WavFileWarning: Reached EOF prematurely; finished at 475180 bytes, expected 475188 bytes from header.\n",
      "  return scipy.io.wavfile.read(file_obj.name)\n",
      "C:\\ProgramData\\Anaconda3\\lib\\site-packages\\gradio\\inputs.py:903: WavFileWarning: Reached EOF prematurely; finished at 352300 bytes, expected 352308 bytes from header.\n",
      "  return scipy.io.wavfile.read(file_obj.name)\n",
      "C:\\ProgramData\\Anaconda3\\lib\\site-packages\\gradio\\inputs.py:903: WavFileWarning: Reached EOF prematurely; finished at 303148 bytes, expected 303156 bytes from header.\n",
      "  return scipy.io.wavfile.read(file_obj.name)\n",
      "C:\\ProgramData\\Anaconda3\\lib\\site-packages\\gradio\\inputs.py:903: WavFileWarning: Reached EOF prematurely; finished at 401452 bytes, expected 401460 bytes from header.\n",
      "  return scipy.io.wavfile.read(file_obj.name)\n",
      "C:\\ProgramData\\Anaconda3\\lib\\site-packages\\gradio\\inputs.py:903: WavFileWarning: Reached EOF prematurely; finished at 344108 bytes, expected 344116 bytes from header.\n",
      "  return scipy.io.wavfile.read(file_obj.name)\n",
      "C:\\ProgramData\\Anaconda3\\lib\\site-packages\\gradio\\inputs.py:903: WavFileWarning: Reached EOF prematurely; finished at 442412 bytes, expected 442420 bytes from header.\n",
      "  return scipy.io.wavfile.read(file_obj.name)\n",
      "C:\\ProgramData\\Anaconda3\\lib\\site-packages\\gradio\\inputs.py:903: WavFileWarning: Reached EOF prematurely; finished at 172076 bytes, expected 172084 bytes from header.\n",
      "  return scipy.io.wavfile.read(file_obj.name)\n",
      "C:\\ProgramData\\Anaconda3\\lib\\site-packages\\gradio\\inputs.py:903: WavFileWarning: Reached EOF prematurely; finished at 401452 bytes, expected 401460 bytes from header.\n",
      "  return scipy.io.wavfile.read(file_obj.name)\n",
      "C:\\ProgramData\\Anaconda3\\lib\\site-packages\\gradio\\inputs.py:903: WavFileWarning: Reached EOF prematurely; finished at 409644 bytes, expected 409652 bytes from header.\n",
      "  return scipy.io.wavfile.read(file_obj.name)\n",
      "C:\\ProgramData\\Anaconda3\\lib\\site-packages\\gradio\\inputs.py:903: WavFileWarning: Reached EOF prematurely; finished at 368684 bytes, expected 368692 bytes from header.\n",
      "  return scipy.io.wavfile.read(file_obj.name)\n",
      "C:\\ProgramData\\Anaconda3\\lib\\site-packages\\gradio\\inputs.py:903: WavFileWarning: Reached EOF prematurely; finished at 376876 bytes, expected 376884 bytes from header.\n",
      "  return scipy.io.wavfile.read(file_obj.name)\n",
      "C:\\ProgramData\\Anaconda3\\lib\\site-packages\\gradio\\inputs.py:903: WavFileWarning: Reached EOF prematurely; finished at 712748 bytes, expected 712756 bytes from header.\n",
      "  return scipy.io.wavfile.read(file_obj.name)\n",
      "C:\\ProgramData\\Anaconda3\\lib\\site-packages\\gradio\\inputs.py:903: WavFileWarning: Reached EOF prematurely; finished at 647212 bytes, expected 647220 bytes from header.\n",
      "  return scipy.io.wavfile.read(file_obj.name)\n"
     ]
    }
   ],
   "source": [
    "iface.test_launch()\n",
    "iface.launch()"
   ]
  }
 ],
 "metadata": {
  "interpreter": {
   "hash": "b3ba2566441a7c06988d0923437866b63cedc61552a5af99d1f4fb67d367b25f"
  },
  "kernelspec": {
   "display_name": "Python 3.7.10 64-bit ('base': conda)",
   "name": "python3"
  },
  "language_info": {
   "codemirror_mode": {
    "name": "ipython",
    "version": 3
   },
   "file_extension": ".py",
   "mimetype": "text/x-python",
   "name": "python",
   "nbconvert_exporter": "python",
   "pygments_lexer": "ipython3",
   "version": "3.7.10"
  },
  "orig_nbformat": 4
 },
 "nbformat": 4,
 "nbformat_minor": 2
}
